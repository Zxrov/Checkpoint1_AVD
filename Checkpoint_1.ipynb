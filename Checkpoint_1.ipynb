{
  "nbformat": 4,
  "nbformat_minor": 0,
  "metadata": {
    "colab": {
      "provenance": []
    },
    "kernelspec": {
      "name": "python3",
      "display_name": "Python 3"
    },
    "language_info": {
      "name": "python"
    }
  },
  "cells": [
    {
      "cell_type": "markdown",
      "source": [
        "**BUSINESS UNDERSTANDING**"
      ],
      "metadata": {
        "id": "-5dgpTT7RCxn"
      }
    },
    {
      "cell_type": "markdown",
      "source": [
        "**Business Objective**\n",
        "\n",
        "Tujuan bisnis dari dataset ini adalah untuk memahami faktor-faktor yang mempengaruhi kinerja akademik siswa, seperti latar belakang sosial ekonomi, jenis kelamin, waktu belajar, dan kehadiran di kelas. Dengan mengetahui faktor-faktor tersebut, tujuan utamanya adalah untuk membantu memprediksi nilai ujian siswa dan merancang kebijakan pendidikan yang lebih baik, seperti memberikan dukungan ekstra bagi siswa yang mungkin memerlukan bantuan lebih dalam belajar, terutama mereka yang berasal dari latar belakang sosial ekonomi yang kurang beruntung."
      ],
      "metadata": {
        "id": "9lZQ7suzROuL"
      }
    },
    {
      "cell_type": "markdown",
      "source": [
        "**Access Situation**\n",
        "\n",
        "Sekolah perlu memiliki akses yang mudah ke data kinerja akademik siswa agar bisa melakukan analisis yang efektif. Data seperti nilai ujian, latar belakang sosial ekonomi, waktu belajar, dan kehadiran harus bisa diakses dengan mudah untuk mengetahui faktor-faktor apa saja yang memengaruhi kinerja siswa. Namun, tidak semua sekolah memiliki sistem yang memungkinkan mereka untuk mengakses data ini dengan mudah. Oleh karena itu, penting bagi sekolah untuk memiliki akses yang lebih baik ke data ini, supaya bisa mengambil keputusan yang tepat dalam mendukung siswa, seperti memberi bantuan bagi mereka yang membutuhkan."
      ],
      "metadata": {
        "id": "syvd1G9cR0oH"
      }
    },
    {
      "cell_type": "markdown",
      "source": [
        "**Data Mining Goals**\n",
        "\n",
        "1. Mengidentifikasi Faktor Utama yang Mempengaruhi Kinerja Siswa\n",
        "\n",
        "2. Memprediksi Nilai Ujian Siswa\n",
        "\n",
        "3. Menemukan Pola dalam Data\n",
        "\n",
        "4. Membangun Sistem Peringatan Dini"
      ],
      "metadata": {
        "id": "p6sN36oFaawL"
      }
    },
    {
      "cell_type": "markdown",
      "source": [
        "**Project Plan**\n",
        "\n",
        "1. Pengumpulan dan Pembersihan Data:\n",
        "\n",
        "*   Ambil dataset yang relevan.\n",
        "*   Periksa dan bersihkan data dari nilai yang hilang atau tidak konsisten.\n",
        "\n",
        "2. Eksplorasi Data:\n",
        "\n",
        "*   Analisis distribusi nilai ujian siswa.\n",
        "*   Identifikasi hubungan antara faktor seperti status sosial ekonomi, jenis kelamin, dan waktu belajar dengan nilai ujian.\n",
        "\n",
        "3. Pembuatan Model:\n",
        "\n",
        "*   Latih model menggunakan data yang telah dipersiapkan.\n",
        "\n",
        "\n",
        "4. Evaluasi Model:\n",
        "\n",
        "*   Analisis hasil untuk melihat seberapa baik model memprediksi nilai ujian.\n",
        "\n",
        "5. Implementasi dan Rekomendasi:\n",
        "\n",
        "*   Gunakan model untuk memberi wawasan tentang siswa yang berisiko dan faktor yang mempengaruhi kinerja mereka.\n",
        "*   Buat rekomendasi untuk kebijakan atau program dukungan yang bisa diterapkan di sekolah.\n",
        "6. Laporan dan Presentasi:\n",
        "\n",
        "*   Buat laporan yang jelas dan visualisasi hasil analisis.\n"
      ],
      "metadata": {
        "id": "Wt4uCSb7appQ"
      }
    }
  ]
}